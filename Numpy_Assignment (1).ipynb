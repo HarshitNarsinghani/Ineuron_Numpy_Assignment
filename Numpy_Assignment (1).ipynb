{
 "cells": [
  {
   "cell_type": "markdown",
   "metadata": {},
   "source": [
    "# Problem Statement:-1"
   ]
  },
  {
   "cell_type": "code",
   "execution_count": 9,
   "metadata": {},
   "outputs": [],
   "source": [
    "#Problem Statement 1: \n",
    "#Write a function so that the columns of the output matrix are powers of the input vector. \n",
    "#The order of the powers is determined by the increasing boolean argument.\n",
    "#Specifically, when  increasing is False, the i-th output column is the input vector raised element-wise\n",
    "#to the power  of N - i - 1. \n",
    "#HINT: Such a matrix with a geometric progression in each row is named for Alexandre Theophile Vandermonde.\n"
   ]
  },
  {
   "cell_type": "code",
   "execution_count": 10,
   "metadata": {},
   "outputs": [
    {
     "name": "stdout",
     "output_type": "stream",
     "text": [
      "mtrx= [[  1   1   1   1   1]\n",
      " [ 16   8   4   2   1]\n",
      " [ 81  27   9   3   1]\n",
      " [256  64  16   4   1]\n",
      " [625 125  25   5   1]]\n"
     ]
    }
   ],
   "source": [
    "#create a matrix with o/p column based on input vectors(N)\n",
    "import numpy as np\n",
    "x = np.array([1,2,3,4,5])\n",
    "N=5\n",
    "mtrx = np.column_stack([x**(N-i-1) for i in range(N)])\n",
    "print('mtrx=',mtrx)"
   ]
  },
  {
   "cell_type": "code",
   "execution_count": 11,
   "metadata": {},
   "outputs": [
    {
     "name": "stdout",
     "output_type": "stream",
     "text": [
      "mtrx1= [[  1   1   1   1   1]\n",
      " [ 16   8   4   2   1]\n",
      " [ 81  27   9   3   1]\n",
      " [256  64  16   4   1]\n",
      " [625 125  25   5   1]]\n"
     ]
    }
   ],
   "source": [
    "#create a matrix using np.vander function\n",
    "x=np.array([1,2,3,4,5])\n",
    "N=5\n",
    "mtrx1 = np.vander(x,N,increasing=False)\n",
    "print(\"mtrx1=\",mtrx1)"
   ]
  },
  {
   "cell_type": "code",
   "execution_count": 12,
   "metadata": {},
   "outputs": [
    {
     "data": {
      "text/plain": [
       "287.9999999999977"
      ]
     },
     "execution_count": 12,
     "metadata": {},
     "output_type": "execute_result"
    }
   ],
   "source": [
    "#find the det of both matrix\n",
    "np.linalg.det(mtrx)"
   ]
  },
  {
   "cell_type": "code",
   "execution_count": 13,
   "metadata": {},
   "outputs": [
    {
     "data": {
      "text/plain": [
       "287.9999999999977"
      ]
     },
     "execution_count": 13,
     "metadata": {},
     "output_type": "execute_result"
    }
   ],
   "source": [
    "np.linalg.det(mtrx1)"
   ]
  },
  {
   "cell_type": "markdown",
   "metadata": {},
   "source": [
    "# Problem Statement:-2"
   ]
  },
  {
   "cell_type": "code",
   "execution_count": 14,
   "metadata": {},
   "outputs": [],
   "source": [
    "#Given a sequence of n values x1, x2, ..., xn and a window size k>0,\n",
    "#the k-th moving average of  the given sequence is defined as follows: \n",
    "#The moving average sequence has n-k+1 elements as shown below. \n",
    "#The moving averages with k=4 of a ten-value sequence (n=10) is shown below \n",
    "#i 1 2 3 4 5 6 7 8 9 10 \n",
    "#===== == == == == == == == == == == \n",
    "#Input 10 20 30 40 50 60 70 80 90 100  \n",
    "#y1 25 = (10+20+30+40)/4 \n",
    "#y2 35 = (20+30+40+50)/4 \n",
    "#y3 45 = (30+40+50+60)/4 \n",
    "#y4 55 = (40+50+60+70)/4 \n",
    "#y5 65 = (50+60+70+80)/4 \n",
    "#y6 75 = (60+70+80+90)/4 \n",
    "#y7 85 = (70+80+90+100)/4 \n",
    "#Thus, the moving average sequence has n-k+1=10-4+1=7 values.\n",
    "#Question: Write a function to find moving average in an array over a window:\n",
    "#Test it over [3, 5, 7, 2, 8, 10, 11, 65, 72, 81, 99, 100, 150] and window of 3. \n"
   ]
  },
  {
   "cell_type": "code",
   "execution_count": 15,
   "metadata": {},
   "outputs": [
    {
     "name": "stdout",
     "output_type": "stream",
     "text": [
      "[  5.           4.66666667   5.66666667   6.66666667   9.66666667\n",
      "  28.66666667  49.33333333  72.66666667  84.          93.33333333\n",
      " 116.33333333]\n"
     ]
    }
   ],
   "source": [
    "import numpy as np\n",
    "def moving_average(a, n=3) :\n",
    "    ret = np.cumsum(a, dtype=float)\n",
    "    ret[n:] = ret[n:] - ret[:-n]\n",
    "    return ret[n - 1:] / n\n",
    "a = [3, 5, 7, 2, 8, 10, 11, 65, 72, 81, 99, 100, 150]\n",
    "print(moving_average(a, n=3))"
   ]
  },
  {
   "cell_type": "code",
   "execution_count": null,
   "metadata": {},
   "outputs": [],
   "source": []
  }
 ],
 "metadata": {
  "kernelspec": {
   "display_name": "Python 3",
   "language": "python",
   "name": "python3"
  },
  "language_info": {
   "codemirror_mode": {
    "name": "ipython",
    "version": 3
   },
   "file_extension": ".py",
   "mimetype": "text/x-python",
   "name": "python",
   "nbconvert_exporter": "python",
   "pygments_lexer": "ipython3",
   "version": "3.8.5"
  }
 },
 "nbformat": 4,
 "nbformat_minor": 4
}
